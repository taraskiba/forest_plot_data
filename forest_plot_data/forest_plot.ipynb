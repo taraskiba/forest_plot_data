{
 "cells": [
  {
   "cell_type": "code",
   "execution_count": null,
   "metadata": {},
   "outputs": [],
   "source": [
    "# import libraries\n",
    "import ee\n",
    "import pandas as pd"
   ]
  },
  {
   "cell_type": "code",
   "execution_count": null,
   "metadata": {},
   "outputs": [],
   "source": [
    "# initialize the Earth Engine module\n",
    "ee.Initialize()"
   ]
  },
  {
   "cell_type": "code",
   "execution_count": null,
   "metadata": {},
   "outputs": [],
   "source": [
    "# coordinates for the points of interest\n",
    "point = ee.Geometry.Point([77.54849920033682, 12.91215102400037])"
   ]
  },
  {
   "cell_type": "code",
   "execution_count": null,
   "metadata": {},
   "outputs": [],
   "source": [
    "terraclimate = ee.ImageCollection(\"IDAHO_EPSCOR/TERRACLIMATE\")\n",
    "tmax = terraclimate.select(\"tmmx\")\n",
    "\n",
    "\n",
    "def scale_image(image):\n",
    "    return image.multiply(0.1).copyProperties(image, [\"system:time_start\"])\n",
    "\n",
    "\n",
    "tmax_scaled = tmax.map(scale_image)"
   ]
  },
  {
   "cell_type": "code",
   "execution_count": null,
   "metadata": {},
   "outputs": [],
   "source": [
    "start_date = \"2000-01-01\"\n",
    "end_date = \"2010-12-31\"\n",
    "filtered = tmax_scaled.filterDate(start_date, end_date)"
   ]
  },
  {
   "cell_type": "code",
   "execution_count": null,
   "metadata": {},
   "outputs": [],
   "source": [
    "def extract_values(image):\n",
    "    return image.reduceRegion(\n",
    "        reducer=ee.Reducer.first(),\n",
    "        geometry=point,\n",
    "        scale=4638.3,  # TerraClimate resolution\n",
    "    )\n",
    "\n",
    "\n",
    "extracted = filtered.map(extract_values)"
   ]
  },
  {
   "cell_type": "code",
   "execution_count": null,
   "metadata": {},
   "outputs": [],
   "source": [
    "data = extracted.getInfo()\n",
    "df = pd.DataFrame(data[\"features\"])\n",
    "df[\"date\"] = pd.to_datetime(\n",
    "    df[\"properties\"].apply(lambda x: x[\"system:time_start\"]), unit=\"ms\"\n",
    ")\n",
    "df[\"tmmx\"] = df[\"properties\"].apply(lambda x: x[\"tmmx\"])\n",
    "df = df[[\"date\", \"tmmx\"]].set_index(\"date\")"
   ]
  },
  {
   "cell_type": "code",
   "execution_count": null,
   "metadata": {},
   "outputs": [],
   "source": [
    "df.to_csv(\"climate_data.csv\")"
   ]
  }
 ],
 "metadata": {
  "kernelspec": {
   "display_name": "geo",
   "language": "python",
   "name": "python3"
  },
  "language_info": {
   "codemirror_mode": {
    "name": "ipython",
    "version": 3
   },
   "file_extension": ".py",
   "mimetype": "text/x-python",
   "name": "python",
   "nbconvert_exporter": "python",
   "pygments_lexer": "ipython3",
   "version": "3.12.8"
  }
 },
 "nbformat": 4,
 "nbformat_minor": 2
}
